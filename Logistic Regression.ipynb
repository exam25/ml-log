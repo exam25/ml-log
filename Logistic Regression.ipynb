{
 "cells": [
  {
   "cell_type": "code",
   "execution_count": 71,
   "id": "cb1bcdd9-93bd-4171-8276-1a59a888bb12",
   "metadata": {},
   "outputs": [],
   "source": [
    "import numpy as np\n",
    "import pandas as pd\n",
    "import matplotlib.pyplot as plt\n",
    "from sklearn.linear_model import LogisticRegression\n",
    "from sklearn.model_selection import train_test_split"
   ]
  },
  {
   "cell_type": "code",
   "execution_count": 5,
   "id": "4fb5313b-0720-4a67-8196-b7b85ef66007",
   "metadata": {},
   "outputs": [
    {
     "data": {
      "text/html": [
       "<div>\n",
       "<style scoped>\n",
       "    .dataframe tbody tr th:only-of-type {\n",
       "        vertical-align: middle;\n",
       "    }\n",
       "\n",
       "    .dataframe tbody tr th {\n",
       "        vertical-align: top;\n",
       "    }\n",
       "\n",
       "    .dataframe thead th {\n",
       "        text-align: right;\n",
       "    }\n",
       "</style>\n",
       "<table border=\"1\" class=\"dataframe\">\n",
       "  <thead>\n",
       "    <tr style=\"text-align: right;\">\n",
       "      <th></th>\n",
       "      <th>x1</th>\n",
       "      <th>x2</th>\n",
       "      <th>y</th>\n",
       "    </tr>\n",
       "  </thead>\n",
       "  <tbody>\n",
       "    <tr>\n",
       "      <th>0</th>\n",
       "      <td>34.623660</td>\n",
       "      <td>78.024693</td>\n",
       "      <td>0</td>\n",
       "    </tr>\n",
       "    <tr>\n",
       "      <th>1</th>\n",
       "      <td>30.286711</td>\n",
       "      <td>43.894998</td>\n",
       "      <td>0</td>\n",
       "    </tr>\n",
       "    <tr>\n",
       "      <th>2</th>\n",
       "      <td>35.847409</td>\n",
       "      <td>72.902198</td>\n",
       "      <td>0</td>\n",
       "    </tr>\n",
       "    <tr>\n",
       "      <th>3</th>\n",
       "      <td>60.182599</td>\n",
       "      <td>86.308552</td>\n",
       "      <td>1</td>\n",
       "    </tr>\n",
       "    <tr>\n",
       "      <th>4</th>\n",
       "      <td>79.032736</td>\n",
       "      <td>75.344376</td>\n",
       "      <td>1</td>\n",
       "    </tr>\n",
       "  </tbody>\n",
       "</table>\n",
       "</div>"
      ],
      "text/plain": [
       "          x1         x2  y\n",
       "0  34.623660  78.024693  0\n",
       "1  30.286711  43.894998  0\n",
       "2  35.847409  72.902198  0\n",
       "3  60.182599  86.308552  1\n",
       "4  79.032736  75.344376  1"
      ]
     },
     "execution_count": 5,
     "metadata": {},
     "output_type": "execute_result"
    }
   ],
   "source": [
    "data = pd.read_csv('Student-University.csv', names=['x1', 'x2', 'y'])\n",
    "data.head()"
   ]
  },
  {
   "cell_type": "code",
   "execution_count": 78,
   "id": "4aba04e4-a60f-4384-b8e9-fa5fa70ce64a",
   "metadata": {},
   "outputs": [
    {
     "name": "stdout",
     "output_type": "stream",
     "text": [
      "Accuracy : 0.84\n"
     ]
    }
   ],
   "source": [
    "X = data.drop('y', axis=1)\n",
    "y = data['y']\n",
    "\n",
    "X = (X-X.mean())/X.std()\n",
    "xtr, xte, ytr, yte = train_test_split(X, y)\n",
    "\n",
    "model = LogisticRegression()\n",
    "history = model.fit(xtr, ytr)\n",
    "\n",
    "y_pred = model.predict(xte)\n",
    "accuracy = (y_pred == yte).mean()\n",
    "\n",
    "print(f'Accuracy : {accuracy}')"
   ]
  },
  {
   "cell_type": "code",
   "execution_count": 114,
   "id": "2211ca4f-5f52-4783-a880-5a1cda8a4505",
   "metadata": {},
   "outputs": [
    {
     "name": "stdout",
     "output_type": "stream",
     "text": [
      "Coefficients: [[2.02246397 1.97925667]]\n",
      "Intercept: [1.01549615]\n",
      "Iterations : [9]\n"
     ]
    }
   ],
   "source": [
    "print(f'Coefficients: {model.coef_}')\n",
    "print(f'Intercept: {model.intercept_}')\n",
    "print(f'Iterations : {model.n_iter_}')"
   ]
  },
  {
   "cell_type": "code",
   "execution_count": 22,
   "id": "9c43e624-311c-493f-8bb2-f2f1ff7436a9",
   "metadata": {},
   "outputs": [],
   "source": [
    "def sigmoid(x):\n",
    "    return (1/(1+(np.exp(-x))))"
   ]
  },
  {
   "cell_type": "code",
   "execution_count": 103,
   "id": "528b5e63-f95e-45d5-adfb-9473de9c1051",
   "metadata": {},
   "outputs": [
    {
     "data": {
      "text/plain": [
       "x1     2.674433\n",
       "x2     2.602150\n",
       "ite    1.210014\n",
       "dtype: float64"
      ]
     },
     "execution_count": 103,
     "metadata": {},
     "output_type": "execute_result"
    }
   ],
   "source": [
    "X = xtr\n",
    "X['ite'] = 1\n",
    "y = ytr\n",
    "\n",
    "theta = [0 for _ in range(X.shape[1])]\n",
    "alpha = 0.01\n",
    "n_itr = 7000\n",
    "\n",
    "for _ in range(n_itr):\n",
    "    z = X.dot(theta)\n",
    "    h = sigmoid(z)\n",
    "    error = h - y\n",
    "    gradient = ((X.T).dot(error))/len(X['x1'])\n",
    "    theta -= alpha*gradient\n",
    "\n",
    "theta"
   ]
  },
  {
   "cell_type": "code",
   "execution_count": 113,
   "id": "e25e6306-cd7a-4b38-8fbd-cde0f9826fe5",
   "metadata": {},
   "outputs": [
    {
     "data": {
      "text/plain": [
       "[<matplotlib.lines.Line2D at 0x234e89bcdd0>]"
      ]
     },
     "execution_count": 113,
     "metadata": {},
     "output_type": "execute_result"
    },
    {
     "data": {
      "image/png": "[encoded data removed]",
      "text/plain": [
       "<Figure size 640x480 with 1 Axes>"
      ]
     },
     "metadata": {},
     "output_type": "display_data"
    }
   ],
   "source": [
    "res = pd.DataFrame()\n",
    "\n",
    "z = np.dot(X, theta)\n",
    "z.sort()\n",
    "\n",
    "plt.figure()\n",
    "plt.plot(z, sigmoid(z))"
   ]
  }
 ],
 "metadata": {
  "kernelspec": {
   "display_name": "Python 3 (ipykernel)",
   "language": "python",
   "name": "python3"
  },
  "language_info": {
   "codemirror_mode": {
    "name": "ipython",
    "version": 3
   },
   "file_extension": ".py",
   "mimetype": "text/x-python",
   "name": "python",
   "nbconvert_exporter": "python",
   "pygments_lexer": "ipython3",
   "version": "3.11.4"
  }
 },
 "nbformat": 4,
 "nbformat_minor": 5
}
